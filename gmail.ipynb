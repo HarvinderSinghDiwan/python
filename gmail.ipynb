{
 "cells": [
  {
   "cell_type": "code",
   "execution_count": 48,
   "metadata": {},
   "outputs": [],
   "source": [
    "#importing essential libraries for aceessing our mail\n",
    "  #(first of all we have to enable the less-app-acess option of your gmail)\n",
    "  #(then also disable the 'two-step-varification' option)  #setting >General>accounts & imports>other google account seeting>security\n",
    "import email\n",
    "import imaplib\n",
    "import ctypes\n",
    "import getpass"
   ]
  },
  {
   "cell_type": "code",
   "execution_count": null,
   "metadata": {},
   "outputs": [],
   "source": [
    "#now for entering email-id & password as input\n",
    "mail = imaplib.IMAP4_SSL('imap.gmail.com',993)  #here we attaching imap-protocol for gmail-sevices whereas 993 is imap-port number\n",
    "unm = input(\"please input your gmail-id:>> \")  #here we use ssl(secure socket layer)-connection\n",
    "pwd = getpass.getpass(\"please enter your password:>>\")\n",
    "mail.login(unm,pwd)\n",
    "mail.select(\"INBOX\")   #aceesing inbox of your google account"
   ]
  },
  {
   "cell_type": "code",
   "execution_count": null,
   "metadata": {},
   "outputs": [],
   "source": [
    "def loop():  #defining loop      ;   for extracting 'from' & 'Subject'-data\n",
    "    mail.select(\"INBOX\")      #from Inbox\n",
    "    n=0       #initialize  messages as zero UNSEEN instantly\n",
    "    (retcode,messages)=mail.search(None,'(UNSEEN)')     \n",
    "    if retcode == 'OK':   #status OK if msf is UNSEEN\n",
    "        for num in messages[0].split():    \n",
    "            n=n+1        #one by one iterated \n",
    "            print(n)     \n",
    "            typ,data = mail.fetch(num,'(RFC822)')   #for the FORMAt of arpa-INTERNET\n",
    "            for respone_part in data:\n",
    "                if isinstance (respone_part,tuple):\n",
    "                    original = email.message_from_string(respone_part[1])  #original has all backend information\n",
    "                    print(original['From'])       #printing sender's info\n",
    "                    data =original['Subject']     #printing subject of msg:-\n",
    "                    print(data)\n",
    "                    typ, data = mail.store(num, '+FLAGS','\\\\Seen')   #and finally marked them 'SEEN'\n",
    "    print(n)\n",
    "    "
   ]
  },
  {
   "cell_type": "code",
   "execution_count": null,
   "metadata": {},
   "outputs": [],
   "source": [
    "if __name__ ==  '__main__':\n",
    "    try:\n",
    "        while True:\n",
    "            loop()   #calling loop\n",
    "    finally:\n",
    "        print (\"thanks for using this service\")"
   ]
  },
  {
   "cell_type": "code",
   "execution_count": null,
   "metadata": {},
   "outputs": [],
   "source": []
  },
  {
   "cell_type": "code",
   "execution_count": null,
   "metadata": {},
   "outputs": [],
   "source": []
  }
 ],
 "metadata": {
  "kernelspec": {
   "display_name": "Python 3",
   "language": "python",
   "name": "python3"
  },
  "language_info": {
   "codemirror_mode": {
    "name": "ipython",
    "version": 3
   },
   "file_extension": ".py",
   "mimetype": "text/x-python",
   "name": "python",
   "nbconvert_exporter": "python",
   "pygments_lexer": "ipython3",
   "version": "3.7.3"
  }
 },
 "nbformat": 4,
 "nbformat_minor": 2
}
