{
 "cells": [
  {
   "cell_type": "code",
   "execution_count": 5,
   "metadata": {},
   "outputs": [],
   "source": [
    "#!/usr/bin/env python\n",
    "# coding: utf-8"
   ]
  },
  {
   "cell_type": "code",
   "execution_count": null,
   "metadata": {},
   "outputs": [],
   "source": [
    "\n",
    "import tweepy, sys\n",
    "import matplotlib.pyplot as plt\n",
    "from textblob import TextBlob\n",
    "import mpld3"
   ]
  },
  {
   "cell_type": "code",
   "execution_count": null,
   "metadata": {},
   "outputs": [],
   "source": [
    "# function to calculate the percentage\n",
    "def percent(part, whole):\n",
    "    return 100 * float(part)/float(whole)\n"
   ]
  },
  {
   "cell_type": "code",
   "execution_count": null,
   "metadata": {},
   "outputs": [],
   "source": [
    "#connection with the api\n",
    "consumerkey = \"Enter key\"\n",
    "consumersecret = \"Enter consumer Secret\"\n",
    "accessToken = \"Enter access token\"\n",
    "accessTokenSecret = \"Enter access token secret\" \n"
   ]
  },
  {
   "cell_type": "code",
   "execution_count": null,
   "metadata": {},
   "outputs": [],
   "source": [
    "auth = tweepy.OAuthHandler(consumer_key=consumerkey, consumer_secret=consumersecret)\n",
    "auth.set_access_token(accessToken, accessTokenSecret)\n",
    "api = tweepy.API(auth)\n",
    "\n"
   ]
  },
  {
   "cell_type": "code",
   "execution_count": null,
   "metadata": {},
   "outputs": [],
   "source": [
    "searchFor = input(\"Enter the keyword or hastag:\")\n",
    "numberSearch = int(input(\"number of tweets:\"))"
   ]
  },
  {
   "cell_type": "code",
   "execution_count": null,
   "metadata": {},
   "outputs": [],
   "source": [
    "#below down we are providing the search item and the number of items\n",
    "tweets = tweepy.Cursor(api.search, q=searchFor, lang=\"English\").items(numberSearch)\n",
    "\n",
    "positive = 0\n",
    "negative = 0\n",
    "neutral = 0\n",
    "polarity = 0 \n",
    "\n",
    "for tweet in tweets:\n",
    "    analysis = TextBlob(tweet.text)\n",
    "    polarity += analysis.sentiment.polarity\n",
    "    \n",
    "    if(analysis.sentiment.polarity == 0):\n",
    "        neutral += 1\n",
    "    elif(analysis.sentiment.polarity < 0 ):\n",
    "        negative += 1\n",
    "    elif(analysis.sentiment.polarity > 0):\n",
    "        positive += 1\n",
    "        \n",
    "positive = percent(positive, numberSearch)\n",
    "negative = percent(negative, numberSearch)\n",
    "neutral = percent(neutral, numberSearch)    \n",
    "\n",
    "print(positive)\n",
    "print(negative)\n",
    "print(neutral)\n",
    "positive =  format(positive, '.2f')\n",
    "negative =  format(negative, '.2f')\n",
    "neutral =  format(neutral, '.2f')\n",
    "\n"
   ]
  },
  {
   "cell_type": "code",
   "execution_count": null,
   "metadata": {},
   "outputs": [],
   "source": [
    "#get_ipython().run_line_magic('matplotlib', 'inline')\n",
    "labels = ['Positive ['+str(positive)+'%]', 'Negative ['+str(negative)+'%]', 'Neutral ['+str(neutral)+'%]']\n",
    "sizes = [positive, negative, neutral]\n",
    "colors = ['yellowgreen', 'red', 'blue']\n",
    "explode = (0.1,0,0)\n",
    "patches, texts = plt.pie(sizes, colors=colors, explode=explode )\n",
    "\n",
    "plt.legend(patches, labels, loc='best')\n",
    "plt.title(\"People reaction on the \" +searchFor)\n",
    "plt.axis('equal')\n",
    "plt.tight_layout()\n",
    "plt.show()"
   ]
  }
 ],
 "metadata": {
  "kernelspec": {
   "display_name": "Python 3",
   "language": "python",
   "name": "python3"
  },
  "language_info": {
   "codemirror_mode": {
    "name": "ipython",
    "version": 3
   },
   "file_extension": ".py",
   "mimetype": "text/x-python",
   "name": "python",
   "nbconvert_exporter": "python",
   "pygments_lexer": "ipython3",
   "version": "3.7.3"
  }
 },
 "nbformat": 4,
 "nbformat_minor": 2
}
